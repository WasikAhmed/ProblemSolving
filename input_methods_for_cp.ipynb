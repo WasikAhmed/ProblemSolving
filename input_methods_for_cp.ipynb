{
 "cells": [
  {
   "cell_type": "markdown",
   "source": [
    "# Input methods for competitive programming"
   ],
   "metadata": {
    "collapsed": false
   },
   "id": "af244afa12b0bdad"
  },
  {
   "cell_type": "markdown",
   "source": [
    "## Type 1:\n",
    "Taking integer as input"
   ],
   "metadata": {
    "collapsed": false
   },
   "id": "8e8a50d55d4243f5"
  },
  {
   "cell_type": "code",
   "outputs": [
    {
     "name": "stdout",
     "output_type": "stream",
     "text": [
      "<class 'int'>\n",
      "5\n"
     ]
    }
   ],
   "source": [
    "n = int(input())\n",
    "print(type(n))\n",
    "print(n)"
   ],
   "metadata": {
    "collapsed": false,
    "ExecuteTime": {
     "end_time": "2024-06-13T16:24:31.764259Z",
     "start_time": "2024-06-13T16:24:20.910321Z"
    }
   },
   "id": "c65ff26262a2abb8",
   "execution_count": 1
  },
  {
   "cell_type": "markdown",
   "source": [
    "## Type 2:\n",
    "Taking string as input"
   ],
   "metadata": {
    "collapsed": false
   },
   "id": "2e1bb7717033b29"
  },
  {
   "cell_type": "code",
   "outputs": [
    {
     "name": "stdout",
     "output_type": "stream",
     "text": [
      "<class 'str'>\n",
      "hello\n"
     ]
    }
   ],
   "source": [
    "s = input()\n",
    "print(type(s))\n",
    "print(s)"
   ],
   "metadata": {
    "collapsed": false,
    "ExecuteTime": {
     "end_time": "2024-06-13T16:24:40.902194Z",
     "start_time": "2024-06-13T16:24:35.111062Z"
    }
   },
   "id": "9c3bc2a048bf4efe",
   "execution_count": 2
  },
  {
   "cell_type": "markdown",
   "source": [
    "# Type 3:\n",
    "```\n",
    "a b c\n",
    "1 2 3\n",
    "```"
   ],
   "metadata": {
    "collapsed": false
   },
   "id": "13d96f406db795d1"
  },
  {
   "cell_type": "code",
   "outputs": [
    {
     "data": {
      "text/plain": "(10, 20, 30, int, int, int)"
     },
     "execution_count": 3,
     "metadata": {},
     "output_type": "execute_result"
    }
   ],
   "source": [
    "a, b, c = map(int, input().split())\n",
    "a, b, c, type(a), type(b), type(c)"
   ],
   "metadata": {
    "collapsed": false,
    "ExecuteTime": {
     "end_time": "2024-06-13T16:25:02.662593Z",
     "start_time": "2024-06-13T16:24:56.784045Z"
    }
   },
   "id": "84e531ee36bda556",
   "execution_count": 3
  },
  {
   "cell_type": "markdown",
   "source": [
    "## Type 4:\n",
    "```\n",
    "a b c d e...\n",
    "1 2 3 4 5...\n",
    "```"
   ],
   "metadata": {
    "collapsed": false
   },
   "id": "c1e8f50aab98f6cc"
  },
  {
   "cell_type": "code",
   "outputs": [
    {
     "data": {
      "text/plain": "[1, 2, 3, 4, 5, 6, 7, 8, 9, 10]"
     },
     "execution_count": 4,
     "metadata": {},
     "output_type": "execute_result"
    }
   ],
   "source": [
    "arr = [int(i) for i in input().split()]\n",
    "arr"
   ],
   "metadata": {
    "collapsed": false,
    "ExecuteTime": {
     "end_time": "2024-06-13T16:25:24.321431Z",
     "start_time": "2024-06-13T16:25:09.868539Z"
    }
   },
   "id": "4f14a3f965759ee2",
   "execution_count": 4
  },
  {
   "cell_type": "markdown",
   "source": [
    "## Type 5:\n",
    "```\n",
    "5\n",
    "1 2 3 4 5\n",
    "```"
   ],
   "metadata": {
    "collapsed": false
   },
   "id": "c8928befff918aa0"
  },
  {
   "cell_type": "code",
   "outputs": [
    {
     "name": "stdout",
     "output_type": "stream",
     "text": [
      "5\n",
      "[1, 2, 3, 4, 5]\n"
     ]
    }
   ],
   "source": [
    "n = int(input())\n",
    "arr = [int(i) for i in input().split()]\n",
    "print(n)\n",
    "print(arr)"
   ],
   "metadata": {
    "collapsed": false,
    "ExecuteTime": {
     "end_time": "2024-06-13T16:25:41.595604Z",
     "start_time": "2024-06-13T16:25:33.476363Z"
    }
   },
   "id": "f6d8addc82b79a4b",
   "execution_count": 5
  },
  {
   "cell_type": "markdown",
   "source": [
    "## Type 6:\n",
    "```\n",
    "3 -> no. of inputs\n",
    "1\n",
    "2\n",
    "3\n",
    "```"
   ],
   "metadata": {
    "collapsed": false
   },
   "id": "a6ad0d262e44ed2b"
  },
  {
   "cell_type": "code",
   "outputs": [
    {
     "name": "stdout",
     "output_type": "stream",
     "text": [
      "3\n",
      "1\n",
      "2\n",
      "3\n"
     ]
    }
   ],
   "source": [
    "n = int(input())\n",
    "print(n)\n",
    "for i in range(n):\n",
    "    tc = int(input())\n",
    "    print(tc)\n",
    "    # ... do operations"
   ],
   "metadata": {
    "collapsed": false,
    "ExecuteTime": {
     "end_time": "2024-06-13T16:25:57.090539Z",
     "start_time": "2024-06-13T16:25:47.586968Z"
    }
   },
   "id": "124a55f4985eccf6",
   "execution_count": 6
  },
  {
   "cell_type": "markdown",
   "source": [
    "## Type 7:\n",
    "```\n",
    "2\n",
    "3\n",
    "1 2 3\n",
    "5\n",
    "1 2 3 4 5\n",
    "```"
   ],
   "metadata": {
    "collapsed": false
   },
   "id": "edce240bb0a2d977"
  },
  {
   "cell_type": "code",
   "outputs": [
    {
     "name": "stdout",
     "output_type": "stream",
     "text": [
      "2\n",
      "3\n",
      "[1, 2, 3]\n",
      "5\n",
      "[1, 2, 3, 4, 5]\n"
     ]
    }
   ],
   "source": [
    "t = int(input())\n",
    "print(t)\n",
    "for i in range(t):\n",
    "    n = int(input())\n",
    "    print(n)\n",
    "    arr = [int(i) for i in input().split()]\n",
    "    print(arr)\n",
    "    # ... do operations"
   ],
   "metadata": {
    "collapsed": false,
    "ExecuteTime": {
     "end_time": "2024-06-13T16:26:17.338125Z",
     "start_time": "2024-06-13T16:26:03.012709Z"
    }
   },
   "id": "452b3e74322dd1d8",
   "execution_count": 7
  },
  {
   "cell_type": "markdown",
   "source": [
    "## Type 8:\n",
    "```\n",
    "4\n",
    "1 2 3 4\n",
    "5 6 7 8\n",
    "9 10 11 12\n",
    "13 14 15 16\n",
    "```"
   ],
   "metadata": {
    "collapsed": false
   },
   "id": "8760cd94d21bd82f"
  },
  {
   "cell_type": "code",
   "outputs": [
    {
     "name": "stdout",
     "output_type": "stream",
     "text": [
      "4\n",
      "[1, 2, 3, 4]\n",
      "[5, 6, 7, 8]\n",
      "[9, 10, 11, 12]\n",
      "[13, 14, 15, 16]\n"
     ]
    }
   ],
   "source": [
    "n = int(input())\n",
    "print(4)\n",
    "for i in range(n):\n",
    "    arr = [int(i) for i in input().split()]\n",
    "    print(arr)\n",
    "    # ... do operations"
   ],
   "metadata": {
    "collapsed": false,
    "ExecuteTime": {
     "end_time": "2024-06-13T16:26:45.892937Z",
     "start_time": "2024-06-13T16:26:23.575737Z"
    }
   },
   "id": "e736c6da5bf47164",
   "execution_count": 8
  }
 ],
 "metadata": {
  "kernelspec": {
   "display_name": "Python 3",
   "language": "python",
   "name": "python3"
  },
  "language_info": {
   "codemirror_mode": {
    "name": "ipython",
    "version": 2
   },
   "file_extension": ".py",
   "mimetype": "text/x-python",
   "name": "python",
   "nbconvert_exporter": "python",
   "pygments_lexer": "ipython2",
   "version": "2.7.6"
  }
 },
 "nbformat": 4,
 "nbformat_minor": 5
}
